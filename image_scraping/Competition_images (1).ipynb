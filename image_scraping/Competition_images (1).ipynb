{
  "nbformat": 4,
  "nbformat_minor": 0,
  "metadata": {
    "colab": {
      "provenance": []
    },
    "kernelspec": {
      "name": "python3",
      "display_name": "Python 3"
    },
    "language_info": {
      "name": "python"
    }
  },
  "cells": [
    {
      "cell_type": "markdown",
      "source": [
        "# Description\n",
        "This script permit scrapping all photos on the first 30 pages of voursa website"
      ],
      "metadata": {
        "id": "AaevILC2dlqV"
      }
    },
    {
      "cell_type": "markdown",
      "source": [
        "# Changing  thenworking directory"
      ],
      "metadata": {
        "id": "UggaDNNZe2eX"
      }
    },
    {
      "cell_type": "code",
      "execution_count": null,
      "metadata": {
        "colab": {
          "base_uri": "https://localhost:8080/"
        },
        "id": "LlFU4-tAcfkj",
        "outputId": "65adfd80-8fe3-41e9-bdc8-386019c64510"
      },
      "outputs": [
        {
          "output_type": "stream",
          "name": "stdout",
          "text": [
            "Mounted at /content/drive\n"
          ]
        }
      ],
      "source": [
        "from google.colab import drive\n",
        "drive.mount('/content/drive')"
      ]
    },
    {
      "cell_type": "code",
      "source": [
        "import os\n",
        "os.chdir('/content/drive/My Drive/Photo')"
      ],
      "metadata": {
        "id": "GzbkLCB_ciwy"
      },
      "execution_count": null,
      "outputs": []
    },
    {
      "cell_type": "markdown",
      "source": [
        "# Loading the webpage"
      ],
      "metadata": {
        "id": "iJYXItI1e-xg"
      }
    },
    {
      "cell_type": "code",
      "source": [
        "import requests\n",
        "from bs4 import BeautifulSoup as bs\n",
        "from urllib.parse import urljoin\n",
        "import os\n",
        "import io\n",
        "from PIL import Image"
      ],
      "metadata": {
        "id": "Ql-cIsUxcswU"
      },
      "execution_count": null,
      "outputs": []
    },
    {
      "cell_type": "code",
      "source": [
        "# Base URL of the website\n",
        "base_url = 'https://www.voursa.com'"
      ],
      "metadata": {
        "id": "Pbi9HAGXcxGC"
      },
      "execution_count": null,
      "outputs": []
    },
    {
      "cell_type": "markdown",
      "source": [
        "# Download images"
      ],
      "metadata": {
        "id": "_wIPEENYfCkx"
      }
    },
    {
      "cell_type": "code",
      "source": [
        "# Loop through the first 30 pages of the listings\n",
        "for page_num in range(1, 31):\n",
        "    # Construct the URL for the current listing page\n",
        "    listing_url = f'https://www.voursa.com/index.cfm?PN={page_num}&gct=1&sct=11&gv=13'\n",
        "\n",
        "    # Fetch the listing page\n",
        "    response = requests.get(listing_url)\n",
        "    if response.status_code != 200:\n",
        "        print(f\"Failed to retrieve page {page_num}\")\n",
        "        continue\n",
        "\n",
        "    webpage = bs(response.content)\n",
        "    images = webpage.find_all('img')\n",
        "    for img in images:\n",
        "      src = img.get('src')\n",
        "      full_src = urljoin(base_url, src)\n",
        "      image_data = requests.get(full_src).content\n",
        "      image_file = io.BytesIO(image_data)\n",
        "      image = Image.open(image_file)\n",
        "      with open(f'web1_{src.split(\"/\")[-1]}', 'wb') as handler:\n",
        "        image.save(handler)"
      ],
      "metadata": {
        "id": "9czcizTFc0AY"
      },
      "execution_count": null,
      "outputs": []
    }
  ]
}
